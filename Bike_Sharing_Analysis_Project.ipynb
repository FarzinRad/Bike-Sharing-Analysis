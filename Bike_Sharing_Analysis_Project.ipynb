{
  "nbformat": 4,
  "nbformat_minor": 0,
  "metadata": {
    "colab": {
      "provenance": [],
      "authorship_tag": "ABX9TyMgFXXodJB5u0GGDS5352KQ",
      "include_colab_link": true
    },
    "kernelspec": {
      "name": "python3",
      "display_name": "Python 3"
    },
    "language_info": {
      "name": "python"
    }
  },
  "cells": [
    {
      "cell_type": "markdown",
      "metadata": {
        "id": "view-in-github",
        "colab_type": "text"
      },
      "source": [
        "<a href=\"https://colab.research.google.com/github/FarzinRad/Bike-Sharing-Analysis/blob/main/Bike_Sharing_Analysis_Project.ipynb\" target=\"_parent\"><img src=\"https://colab.research.google.com/assets/colab-badge.svg\" alt=\"Open In Colab\"/></a>"
      ]
    },
    {
      "cell_type": "markdown",
      "source": [
        "# BIKE SHARING ANALYSIS\n",
        "\n",
        "In this project I want analysis a bike share service and find some useful patterns based on some features like **time features** and **weather conditions**.\n",
        "\n",
        "In this project I will apply some concepts like **visualiziation**, **hypothesis testsing** and **time series analysis** in my dataset.\n",
        "\n",
        "P.N: This data can be use in the same businesses and services like food delivery, bike delivery and so on... . \n",
        "\n",
        "What our metrics?\n",
        "\n",
        "There are two type metrics; \n",
        "- firstly, business (Company) metrics and \n",
        "- secondly, customers (Users) metrics.\n",
        "\n",
        "**business metrics like**: expected bike demand in a specific area by specific time frame, which can increase the revenue and customer satisfaction. Another metric can be bike relocation which can optimize and reduce operational costs.\n",
        "\n",
        "**Customer metrics like:** The most important of metrics of user side can be the aalibility of bikes in the shortest time.\n",
        "\n",
        "### My Dataset:\n",
        "\n",
        "I'll use the bike sharing data from **Capital Bikeshare in Washington, D.C., USA**, for the period **between January 1, 2011, and December 31, 2012**. The data is <u>aggregated on an hourly basis</u>. This means that no initial and final locations of the individual rides are available, but only the total number of rides per hour.\n",
        "Moreover, additional <u>meteorological information</u> is available in the data,\n",
        "which could serve as a driving factor for identifying the total number of requests for a specific time frame (bad weather conditions could have a substantial impact on bike sharing demand)."
      ],
      "metadata": {
        "id": "i9eCmZVAKIoK"
      }
    },
    {
      "cell_type": "code",
      "execution_count": null,
      "metadata": {
        "id": "ted5_E8SJhs8"
      },
      "outputs": [],
      "source": []
    }
  ]
}